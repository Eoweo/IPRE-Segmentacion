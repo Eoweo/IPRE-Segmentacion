{
 "cells": [
  {
   "cell_type": "markdown",
   "metadata": {},
   "source": [
    "<h1 style=\"text-align: center;\">Semantic Segmentation - Neural Network</h1>\n",
    "<h3 style=\"text-align: center;\">Carlos Moreno</h3>"
   ]
  },
  {
   "cell_type": "code",
   "execution_count": 1,
   "metadata": {},
   "outputs": [],
   "source": [
    "import os\n",
    "import torch\n",
    "import torch.nn as nn\n",
    "from torch.optim import SGD, Adam\n",
    "import torch.nn.functional as F\n",
    "from torch.utils.data import Dataset, DataLoader\n",
    "import torchvision\n",
    "import numpy as np\n",
    "import matplotlib.pyplot as plt\n",
    "\n",
    "from PIL import Image\n",
    "import numpy as np\n",
    "import glob\n",
    "import cv2\n",
    "import pickle"
   ]
  },
  {
   "cell_type": "markdown",
   "metadata": {},
   "source": [
    "Run device"
   ]
  },
  {
   "cell_type": "code",
   "execution_count": null,
   "metadata": {},
   "outputs": [],
   "source": [
    "device = torch.device(\"cuda\" if torch.cuda.is_available() else \"cpu\")\n",
    "print(torch.cuda.get_device_name())"
   ]
  },
  {
   "cell_type": "markdown",
   "metadata": {},
   "source": [
    "->Load Dataset"
   ]
  },
  {
   "cell_type": "code",
   "execution_count": 3,
   "metadata": {},
   "outputs": [],
   "source": [
    "\n",
    "def Set_tif_Dataset(path, width= 256, height= 256):\n",
    "    images_list = []\n",
    "\n",
    "    with Image.open(path) as img:\n",
    "        try:\n",
    "            while True:\n",
    "                # Convert each page to an RGB image\n",
    "                img_rgb = img.convert(\"L\")\n",
    "\n",
    "                # Resize to the desired dimensions\n",
    "                img_resized = img_rgb.resize((width, height))\n",
    "\n",
    "                # Convert to a NumPy array and normalize pixel values to [0, 255]\n",
    "                img_array = np.array(img_resized)/255.0\n",
    "\n",
    "                # Add to the list\n",
    "                images_list.append(img_array)\n",
    "\n",
    "                # Move to the next page\n",
    "                img.seek(img.tell() + 1)\n",
    "        except EOFError:\n",
    "            pass  # End of the TIFF file\n",
    "    return np.stack(images_list[:200])"
   ]
  },
  {
   "cell_type": "code",
   "execution_count": 4,
   "metadata": {},
   "outputs": [],
   "source": [
    "train_ds = Set_tif_Dataset('..\\\\Database\\\\EPFL\\\\training.tif')\n",
    "train_mask_ds = Set_tif_Dataset('..\\\\Database\\\\EPFL\\\\training_groundtruth.tif')\n",
    "\n",
    "test_ds = Set_tif_Dataset('..\\\\Database\\\\EPFL\\\\testing.tif')\n",
    "test_mask_ds = Set_tif_Dataset('..\\\\Database\\\\EPFL\\\\testing_groundtruth.tif')"
   ]
  },
  {
   "cell_type": "code",
   "execution_count": null,
   "metadata": {},
   "outputs": [],
   "source": [
    "train_ds.shape"
   ]
  },
  {
   "cell_type": "code",
   "execution_count": 6,
   "metadata": {},
   "outputs": [],
   "source": [
    "class MainDataset(Dataset):\n",
    "    def __init__(self, images, masks):\n",
    "        self.images = images\n",
    "        self.masks = masks\n",
    "\n",
    "    def __len__(self):\n",
    "        return len(self.images)\n",
    "\n",
    "    def __getitem__(self, idx):\n",
    "        image = self.images[idx]\n",
    "        mask = self.masks[idx]\n",
    "\n",
    "        # Convert to PyTorch tensors\n",
    "        image = torch.tensor(image, dtype=torch.float32).unsqueeze(0)  # (H, W, C) -> (C, H, W)\n",
    "        mask = torch.tensor(mask, dtype=torch.float32).unsqueeze(0)  # Add channel dimension\n",
    "\n",
    "        return image, mask"
   ]
  },
  {
   "cell_type": "code",
   "execution_count": 7,
   "metadata": {},
   "outputs": [],
   "source": [
    "train_dataset = MainDataset(train_ds, train_mask_ds)\n",
    "test_dataset = MainDataset(test_ds, test_mask_ds)\n",
    "\n",
    "train_dl = DataLoader(train_dataset, batch_size=8, shuffle=True, pin_memory=True)\n",
    "test_dl =  DataLoader(test_dataset, batch_size=8, shuffle=True, pin_memory=True) "
   ]
  },
  {
   "cell_type": "code",
   "execution_count": 8,
   "metadata": {},
   "outputs": [],
   "source": [
    "class FConvNet(nn.Module):\n",
    "    def __init__(self, num_classes=2, input_size=(256,256)):  \n",
    "        super().__init__()\n",
    "        self.conv1 = nn.Conv2d(in_channels=1, out_channels=24, kernel_size=3, stride=1, padding=1)\n",
    "        self.conv2 = nn.Conv2d(in_channels=24, out_channels=8, kernel_size=3, stride=1, padding=1)\n",
    "        self.pool = nn.MaxPool2d(kernel_size=2, stride=2)\n",
    "        self.conv3 = nn.Conv2d(in_channels=8, out_channels=num_classes, kernel_size=1)  # Final convolutional layer\n",
    "        self.upsample = nn.Upsample(size=input_size, mode='bilinear', align_corners=False)  # Upsample to input size\n",
    "        self.R = nn.ReLU()\n",
    "\n",
    "    def forward(self, x):\n",
    "        x = self.R(self.conv1(x))\n",
    "        x = self.pool(x)\n",
    "        x = self.R(self.conv2(x))\n",
    "        x = self.pool(x)\n",
    "        x = self.conv3(x)  # Apply 1x1 convolution to produce class scores\n",
    "        x = self.upsample(x)  # Upsample to match input resolution\n",
    "        return x"
   ]
  },
  {
   "cell_type": "code",
   "execution_count": 20,
   "metadata": {},
   "outputs": [],
   "source": [
    "def CheckAccuracy(loader, model, name, device='cuda'):\n",
    "    dice_scores = []\n",
    "    model.eval()\n",
    "\n",
    "    with torch.no_grad():\n",
    "        for x, y in loader:\n",
    "            x = x.to(device)\n",
    "            y = y.to(device).squeeze(1)  # Remove channel dimension\n",
    "\n",
    "            # Model prediction\n",
    "            y_hat = model(x)\n",
    "            y_hat = torch.argmax(y_hat, dim=1)  # Convert logits to class labels\n",
    "\n",
    "            # Calculate Dice Score\n",
    "            intersection = (y_hat * y).sum(dim=(1, 2))\n",
    "            union = y_hat.sum(dim=(1, 2)) + y.sum(dim=(1, 2))\n",
    "            dice = (2.0 * intersection) / (union )  # Add epsilon to avoid division by zero\n",
    "            dice_scores.append(dice.mean().item())\n",
    "\n",
    "    print(f\"Dice Score of {name}: {dice.mean():.4f}\")\n",
    "    model.train()\n",
    "    return dice_scores"
   ]
  },
  {
   "cell_type": "markdown",
   "metadata": {},
   "source": [
    "## Optimización"
   ]
  },
  {
   "cell_type": "code",
   "execution_count": 10,
   "metadata": {},
   "outputs": [],
   "source": [
    "def train_model(dl, model, n_epochs=20, device='cuda'):\n",
    "    # Optimization\n",
    "    opt = Adam(model.parameters(), lr=3e-4)  # karpathy's constant\n",
    "    criterion = nn.CrossEntropyLoss()  # Binary cross-entropy loss with logits\n",
    "\n",
    "    # Train model\n",
    "    losses = []\n",
    "    epochs = []\n",
    "    accuracy = []\n",
    "    for epoch in range(n_epochs):\n",
    "        model.train()\n",
    "        N = len(dl)\n",
    "\n",
    "        for i, (x, y) in enumerate(dl):\n",
    "            x, y = x.to(device), y.to(device).squeeze(1).long()  # Convert mask to [B, H, W] and integer type\n",
    "            opt.zero_grad()\n",
    "            outputs = model(x)\n",
    "            loss = criterion(outputs, y)\n",
    "            loss.backward()\n",
    "            opt.step()\n",
    "\n",
    "            # Store training data\n",
    "            epochs.append(epoch + i / N)\n",
    "            losses.append(loss.item())\n",
    "\n",
    "        print(f\"Epoch {epoch + 1}/{n_epochs}, Last Batch Loss: {loss.item():.4f}\")\n",
    "        accuracy.append(CheckAccuracy(train_dl, model, \"Train Data\", device=device))\n",
    "\n",
    "    return np.array(epochs), np.array(losses), accuracy"
   ]
  },
  {
   "cell_type": "code",
   "execution_count": 11,
   "metadata": {},
   "outputs": [],
   "source": [
    "class Report:\n",
    "    def __init__(self, epoch, loss, Accuracy, type = \"Training\", n_epochs=20):\n",
    "        self.epoch = epoch\n",
    "        self.loss = loss\n",
    "        self.type = type\n",
    "        self.n_epochs = n_epochs\n",
    "        self.Accuracy = Accuracy\n",
    "        self.epoch_data_avgd = self.epoch.reshape(self.n_epochs,-1).mean(axis=1)\n",
    "        self.loss_data_avgd = self.loss.reshape(self.n_epochs,-1).mean(axis=1)\n",
    "    \n",
    "    def plot_training(self):\n",
    "        plt.figure(figsize=(5,4))\n",
    "        plt.plot(self.epoch_data_avgd, self.loss_data_avgd, 'o--', label='Loss', color=\"Cyan\")\n",
    "        plt.xlabel('Epoch Number')\n",
    "        plt.ylabel('Cross Entropy')\n",
    "        plt.title(f'Cross Entropy (avgd per epoch) - {self.type}')\n",
    "        plt.legend()\n",
    "        \n",
    "        plt.tight_layout()\n",
    "        plt.show()\n",
    "\n",
    "    def plot_accuracy(self):\n",
    "        plt.figure(figsize=(5, 4))\n",
    "        plt.plot([i for i in range(1, self.n_epochs + 1)], self.Accuracy, 'd--', label='Accuracy', color='orange')\n",
    "        plt.xlabel('Epoch Number')\n",
    "        plt.ylabel('Accuracy (%)')\n",
    "        plt.ylim(min(self.Accuracy)*0.9, 100)\n",
    "        plt.xlim(0, self.n_epochs)\n",
    "        plt.title(f'Accuracy Over Epochs - {self.type}')\n",
    "        plt.legend()\n",
    "\n",
    "        plt.tight_layout()\n",
    "        plt.show()"
   ]
  },
  {
   "cell_type": "code",
   "execution_count": null,
   "metadata": {},
   "outputs": [],
   "source": [
    "torch.cuda.empty_cache()\n",
    "model = FConvNet(num_classes=2).to('cuda')\n",
    "epoch_data, loss_data, Accurasy_data = train_model(train_dl, model, n_epochs=200, device='cuda')"
   ]
  },
  {
   "cell_type": "code",
   "execution_count": null,
   "metadata": {},
   "outputs": [],
   "source": [
    "Analisis = Report(epoch_data, loss_data, Accurasy_data,  n_epochs =200)\n",
    "Analisis.plot_training(), Analisis.plot_accuracy()"
   ]
  },
  {
   "cell_type": "code",
   "execution_count": null,
   "metadata": {},
   "outputs": [],
   "source": [
    "acurracy = CheckAccuracy(test_dl, model, \"Test Data\")"
   ]
  },
  {
   "cell_type": "code",
   "execution_count": null,
   "metadata": {},
   "outputs": [],
   "source": [
    "\n",
    "fig, ax = plt.subplots(10, 10, figsize=(20, 20))\n",
    "for i in range(1, 100):\n",
    "    plt.subplot(10, 10, i)\n",
    "    \n",
    "    # Move the tensor to CPU and convert it to NumPy for visualization\n",
    "    \n",
    "    plt.imshow(train_ds[i], cmap=\"gray\")\n",
    "    plt.axis(\"off\")\n",
    "    \n",
    "fig.tight_layout()\n",
    "plt.show()"
   ]
  },
  {
   "cell_type": "code",
   "execution_count": 24,
   "metadata": {},
   "outputs": [],
   "source": [
    "def plot_predictions(model, loader, device='cuda'):\n",
    "    model.eval()\n",
    "    i\n",
    "    with torch.no_grad():\n",
    "        for x, y in loader:\n",
    "            x = x.to(device)\n",
    "            y = y.to(device).squeeze(1)  # Remove channel dimension\n",
    "\n",
    "            # Model prediction\n",
    "            y_hat = model(x)\n",
    "            y_hat = torch.argmax(y_hat, dim=1).cpu().numpy()  # Convert logits to class labels\n",
    "\n",
    "            # Plot the first sample in the batch\n",
    "            fig, axes = plt.subplots(1, 3, figsize=(15, 5))\n",
    "\n",
    "            axes[0].imshow(x[0, 0].cpu().numpy(), cmap='gray')\n",
    "            axes[0].set_title(\"Input Image\")\n",
    "\n",
    "            axes[1].imshow(y[0].cpu().numpy(), cmap='gray')\n",
    "            axes[1].set_title(\"Ground Truth Mask\")\n",
    "\n",
    "            axes[2].imshow(y_hat[0], cmap='gray')\n",
    "            axes[2].set_title(\"Predicted Mask\")\n",
    "\n",
    "            plt.show()\n",
    "            "
   ]
  },
  {
   "cell_type": "code",
   "execution_count": null,
   "metadata": {},
   "outputs": [],
   "source": [
    "plot_predictions(model, test_dl)"
   ]
  },
  {
   "cell_type": "code",
   "execution_count": null,
   "metadata": {},
   "outputs": [],
   "source": []
  }
 ],
 "metadata": {
  "kernelspec": {
   "display_name": "Python 3",
   "language": "python",
   "name": "python3"
  },
  "language_info": {
   "codemirror_mode": {
    "name": "ipython",
    "version": 3
   },
   "file_extension": ".py",
   "mimetype": "text/x-python",
   "name": "python",
   "nbconvert_exporter": "python",
   "pygments_lexer": "ipython3",
   "version": "3.12.7"
  }
 },
 "nbformat": 4,
 "nbformat_minor": 2
}
